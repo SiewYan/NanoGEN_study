{
 "cells": [
  {
   "cell_type": "markdown",
   "metadata": {},
   "source": [
    "# Final State W(lv)H(WW), W(lv),W(jj), Signal Study\n",
    "\n",
    "- Events containing a pair of energetic, same sign (SS) isolated leptons are rare SM processes\n",
    "\n",
    "- The final state have a very low irreducible backgrounds from SM processes. However, the background from non-prompt leptons inside jets misidentified as isolated, usually referred to as ”fake leptons”, generally constitutes a serious limitation to the sensitivity reachable in these searches.\n"
   ]
  },
  {
   "cell_type": "code",
   "execution_count": 1,
   "metadata": {
    "ExecuteTime": {
     "end_time": "2019-06-28T14:40:04.007748Z",
     "start_time": "2019-06-28T14:40:02.418277Z"
    }
   },
   "outputs": [
    {
     "data": {
      "image/png": "[encoded data removed]",
      "text/plain": [
       "<Figure size 432x432 with 1 Axes>"
      ]
     },
     "metadata": {},
     "output_type": "display_data"
    }
   ],
   "source": [
    "%matplotlib inline\n",
    "import matplotlib.pyplot as plt\n",
    "from feynman import Diagram\n",
    "\n",
    "fig = plt.figure(figsize=(6.,6.))\n",
    "ax = fig.add_axes([0,0,1,1], frameon=False)\n",
    "\n",
    "diagram = Diagram(ax)\n",
    "#diagram.text(.4,0.9,\"Associated Vector Boson\", fontsize=40)\n",
    "#diagram.text(.6,0.83,\"(WH or 'Higgs Strahlung')\", fontsize=40)\n",
    "in1 = diagram.vertex(xy=(.0,.75), marker='')\n",
    "in2= diagram.vertex(xy=(.0,.25), marker='')\n",
    "v1 = diagram.vertex(xy=(.15,.5))\n",
    "v2 = diagram.vertex(xy=(.35,.5))\n",
    "higgsout = diagram.vertex(xy=(.45,.65))\n",
    "higgsout1 = diagram.vertex(xy=(.65,.75))\n",
    "higgsout2 = diagram.vertex(xy=(.65,.55))\n",
    "v3 = diagram.vertex(xy=(0.8,.83))\n",
    "v4 = diagram.vertex(xy=(0.8,.67))\n",
    "v5 = diagram.vertex(xy=(0.8,.63))\n",
    "v6 = diagram.vertex(xy=(0.8,.47))\n",
    "out1 = diagram.vertex(xy=(0.45,.25),marker='')\n",
    "out11 = diagram.vertex(xy=(0.8,.35),marker='')\n",
    "out12 = diagram.vertex(xy=(0.8,.15),marker='')\n",
    "\n",
    "\n",
    "q1 = diagram.line(in1, v1)\n",
    "q2 = diagram.line(v1, in2)\n",
    "wz1 = diagram.line(v1, v2, style='wiggly')\n",
    "wz2 = diagram.line(v2, out1, style='wiggly')\n",
    "L1 = diagram.line(out1, out11)\n",
    "nu1 = diagram.line(out1, out12)\n",
    "higgs = diagram.line(v2, higgsout, arrow=False, style='dashed')\n",
    "w1 = diagram.line(higgsout, higgsout1, arrow=False, style='wiggly')\n",
    "w2 = diagram.line(higgsout, higgsout2, arrow=False, style='wiggly')\n",
    "L2 = diagram.line(higgsout2,v6)\n",
    "nu2 = diagram.line(higgsout2, v5)\n",
    "j1 = diagram.line(higgsout1, v3)\n",
    "j2 = diagram.line(higgsout1, v4)\n",
    "\n",
    "\n",
    "q1.text(\"q\",fontsize=20)\n",
    "q2.text(r\"$\\bar{\\mathrm{q}}$\",fontsize=20)\n",
    "L1.text(\"$l^{\\pm}$\",fontsize=20)\n",
    "nu1.text(\"v\",fontsize=20)\n",
    "L2.text(\"$l^{\\pm}$\",fontsize=20)\n",
    "nu2.text(\"v\",fontsize=20)\n",
    "j1.text(\"q\",fontsize=20)\n",
    "j2.text(r\"$\\bar{\\mathrm{q}}$\",fontsize=20)\n",
    "higgs.text(\"H\",fontsize=20)\n",
    "diagram.text(0.25,0.55,\"$W^\\pm$\",fontsize=20)\n",
    "diagram.text(0.32,0.35,\"$W^\\pm$\",fontsize=20)\n",
    "diagram.text(0.53,0.75,\"$W^\\mp$\",fontsize=20)\n",
    "diagram.text(0.62,0.63,\"$W^\\pm$\",fontsize=20)\n",
    "\n",
    "\n",
    "diagram.plot()\n",
    "plt.show()"
   ]
  },
  {
   "cell_type": "markdown",
   "metadata": {},
   "source": [
    "## Predicted Cross Section\n",
    "\n",
    "- H(125)\n",
    "- $\\sqrt{s}$ = 13 TeV\n",
    "- Cross sections are calculated at NNLO QCD and NLO EW with the program HAWK\n",
    "\n",
    "### W boson Higgstrahlung Production\n",
    "\n",
    "- Cross section computed at NNLO QCD and NLO EW \n",
    "\n",
    "$\\sigma_{WH}$ = 1.358 pb\n",
    "\n",
    "$\\sigma_{W^{+}H}$ = 0.831 pb\n",
    "\n",
    "$\\sigma_{W^{-}H}$ = 0.527 pb\n",
    "\n",
    "### $l^{\\pm}\\nu H$ production\n",
    "\n",
    "$\\sigma_{l^{+}\\nu H}$ = 0.094 pb\n",
    "\n",
    "$\\sigma_{l^{-}\\nu H}$ = 0.0598 pb\n",
    "\n",
    "### Higgs boson Branching Ratio\n",
    "\n",
    "Br($H \\rightarrow W^{+}W^{-}$) = 0.2137\n",
    "\n",
    "### W boson Partial width Decay\n",
    "$\\Gamma_{W \\rightarrow l^{+}\\nu}$ = 10.86 $\\%$\n",
    "\n",
    "$\\Gamma_{W \\rightarrow e^{+}\\nu}$ = 10.71 $\\%$\n",
    "\n",
    "$\\Gamma_{W \\rightarrow \\mu^{+}\\nu}$ = 10.63 $\\%$\n",
    "\n",
    "$\\Gamma_{W \\rightarrow \\tau^{+}\\nu}$ = 11.38 $\\%$\n",
    "\n",
    "$\\Gamma_{hadron}$ = 67.41 $\\%$\n",
    "\n",
    "= Same with opposite charge\n",
    "\n",
    "\n",
    "### Reference\n",
    "- Production Cross Section: https://twiki.cern.ch/twiki/bin/view/LHCPhysics/CERNHLHE2019\n",
    "- Branching Ratio: https://twiki.cern.ch/twiki/bin/view/LHCPhysics/CERNYellowReportPageBR"
   ]
  },
  {
   "cell_type": "markdown",
   "metadata": {},
   "source": [
    "### Same Sign Same Flavor:\n",
    "\n",
    "#### Positive Sign Mutually Exclusive $W^{+}(l^{+}\\nu)H(l^{+} \\nu q\\bar{q})$\n",
    "\n",
    "SSMuMu: \n",
    "\n",
    "$\\sigma_{W^{+}(\\mu^{+}\\nu)H(\\mu^{+} \\nu q\\bar{q})}$ = $\\sigma_{W^{+}H}$ $\\times$ Br($W^{+} \\rightarrow \\mu^{+} \\nu$) $\\times$ Br($H \\rightarrow W^{+}W^{-}$) $\\times$ 2 $\\times$ [Br($W^{+} \\rightarrow \\mu^{+} \\nu$) $\\times$ Br($W^{-} \\rightarrow q \\bar{q}$)]\n",
    "\n",
    "SSEE: \n",
    "\n",
    "$\\sigma_{W^{+}(e^{+}\\nu)H(e^{+} \\nu q\\bar{q})}$ = $\\sigma_{W^{+}H}$ $\\times$ Br($W^{+} \\rightarrow e^{+} \\nu$) $\\times$ Br($H \\rightarrow W^{+}W^{-}$) $\\times$ 2 $\\times$ [Br($W^{+} \\rightarrow e^{+} \\nu$) $\\times$ Br($W^{-} \\rightarrow q \\bar{q}$)]\n",
    "\n",
    "Total SS:\n",
    "\n",
    "$\\sigma_{W^{+}(l^{+}\\nu)H(l^{+} \\nu q\\bar{q})}$ = $\\sigma_{W^{+}(\\mu^{+}\\nu)H(\\mu^{+} \\nu q\\bar{q})}$ + $\\sigma_{W^{+}(e^{+}\\nu)H(e^{+} \\nu q\\bar{q})}$"
   ]
  },
  {
   "cell_type": "code",
   "execution_count": 2,
   "metadata": {
    "ExecuteTime": {
     "end_time": "2019-06-28T14:40:04.116922Z",
     "start_time": "2019-06-28T14:40:04.084235Z"
    }
   },
   "outputs": [
    {
     "name": "stdout",
     "output_type": "stream",
     "text": [
      "Same + Sign WH yields 0.005452 pb @ NNLO QCD and NLO EW\n"
     ]
    }
   ],
   "source": [
    "SSMuMuplus = (0.831*0.1063*0.2137*2*0.1063*0.6741)\n",
    "SSEleEleplus = (0.831*0.1071*0.2137*2*0.1071*0.6741)\n",
    "SSSFWplus = SSMuMuplus + SSEleEleplus\n",
    "print \"Same + Sign WH yields %f pb @ NNLO QCD and NLO EW\" %SSSFWplus"
   ]
  },
  {
   "cell_type": "markdown",
   "metadata": {},
   "source": [
    "#### Negative Sign Mutually Exclusive $W^{-}(l^{-}\\bar{\\nu})H(l^{-} \\nu q\\bar{q})$\n",
    "\n",
    "SSMuMu:\n",
    "\n",
    "$\\sigma_{W^{-}(\\mu^{-}\\bar{\\nu})H(\\mu^{-} \\nu q\\bar{q})}$ = $\\sigma_{W^{-}H}$ $\\times$ Br($W^{-} \\rightarrow \\mu^{-} \\bar{\\nu}$) $\\times$ Br($H \\rightarrow W^{+}W^{-}$) $\\times$ 2 $\\times$ [Br($W^{-} \\rightarrow \\mu^{-} \\bar{\\nu}$) $\\times$ Br($W^{+} \\rightarrow q \\bar{q}$)]\n",
    "\n",
    "SSEE:\n",
    "\n",
    "$\\sigma_{W^{-}(e^{-}\\bar{\\nu})H(e^{-} \\nu q\\bar{q})}$ = $\\sigma_{W^{-}H}$ $\\times$ Br($W^{-} \\rightarrow e^{-} \\bar{\\nu}$) $\\times$ Br($H \\rightarrow W^{+}W^{-}$) $\\times$ 2 $\\times$ [Br($W^{-} \\rightarrow e^{-} \\bar{\\nu}$) $\\times$ Br($W^{+} \\rightarrow q \\bar{q}$)]\n",
    "\n",
    "Total SS:\n",
    "\n",
    "$\\sigma_{W^{-}(l^{-}\\bar{\\nu})H(l^{-} \\nu q\\bar{q})}$ = $\\sigma_{W^{-}(\\mu^{-}\\bar{\\nu})H(\\mu^{-}q\\bar{q})}$ + $\\sigma_{W^{-}(e^{-}\\nu)H(e^{-} \\nu q\\bar{q})}$"
   ]
  },
  {
   "cell_type": "code",
   "execution_count": 3,
   "metadata": {
    "ExecuteTime": {
     "end_time": "2019-06-28T14:40:04.141475Z",
     "start_time": "2019-06-28T14:40:04.123456Z"
    }
   },
   "outputs": [
    {
     "name": "stdout",
     "output_type": "stream",
     "text": [
      "Same - Sign WH yields 0.003457 pb @ NNLO QCD and NLO EW\n"
     ]
    }
   ],
   "source": [
    "SSMuMuminus = (0.527*0.1063*0.2137*2*0.1063*0.6741)\n",
    "SSEleEleminus = (0.527*0.1071*0.2137*2*0.1071*0.6741)\n",
    "SSSFWminus = SSMuMuminus + SSEleEleminus\n",
    "print \"Same - Sign WH yields %f pb @ NNLO QCD and NLO EW\" %SSSFWminus"
   ]
  },
  {
   "cell_type": "markdown",
   "metadata": {},
   "source": [
    "## Total Same Sign Same Flavor"
   ]
  },
  {
   "cell_type": "code",
   "execution_count": 4,
   "metadata": {},
   "outputs": [
    {
     "name": "stdout",
     "output_type": "stream",
     "text": [
      "Expected total Same Sign Same Flavor WH yields 0.008909 pb @ NNLO QCD and NLO EW\n"
     ]
    }
   ],
   "source": [
    "print \"Expected total Same Sign Same Flavor WH yields %f pb @ NNLO QCD and NLO EW\" %(SSSFWplus+SSSFWminus)"
   ]
  },
  {
   "cell_type": "markdown",
   "metadata": {},
   "source": [
    "### Same Sign Opposite Flavor\n",
    "\n",
    "#### Positive Sign Mutually Exclusive $W^{+}(l^{+}\\nu)H(l^{+} \\nu q\\bar{q})$\n",
    "\n",
    "$\\sigma_{W^{+}(\\mu^{+}\\nu)H(e^{+} \\nu q\\bar{q})}$ = $\\sigma_{W^{+}H}$ $\\times$ Br($W^{+} \\rightarrow \\mu^{+} \\nu$) $\\times$ Br($H \\rightarrow W^{+}W^{-}$) $\\times$ 2 $\\times$ [Br($W^{+} \\rightarrow e^{+} \\nu$) $\\times$ Br($W^{-} \\rightarrow q \\bar{q}$)]\n",
    "\n",
    "$\\sigma_{W^{+}(e^{+}\\nu)H(\\mu^{+} \\nu q\\bar{q})}$ = $\\sigma_{W^{+}H}$ $\\times$ Br($W^{+} \\rightarrow e^{+} \\nu$) $\\times$ Br($H \\rightarrow W^{+}W^{-}$) $\\times$ 2 $\\times$ [Br($W^{+} \\rightarrow \\mu^{+} \\nu$) $\\times$ Br($W^{-} \\rightarrow q \\bar{q}$)]\n",
    "\n",
    "$\\sigma_{W^{+}(l^{+}\\nu)H(l^{+} \\nu q\\bar{q})}$ = $\\sigma_{W^{+}(\\mu^{+}\\nu)H(e^{+} \\nu q\\bar{q})}$ + $\\sigma_{W^{+}(e^{+}\\nu)H(\\mu^{+} \\nu q\\bar{q})}$"
   ]
  },
  {
   "cell_type": "code",
   "execution_count": 5,
   "metadata": {
    "ExecuteTime": {
     "end_time": "2019-06-28T14:40:04.178508Z",
     "start_time": "2019-06-28T14:40:04.165920Z"
    }
   },
   "outputs": [
    {
     "name": "stdout",
     "output_type": "stream",
     "text": [
      "0.005451 pb\n"
     ]
    }
   ],
   "source": [
    "SSMuEleplus = (0.831*0.1063*0.2137*2*0.1071*0.6741)\n",
    "SSEleMuplus = (0.831*0.1071*0.2137*2*0.1063*0.6741)\n",
    "\n",
    "SSOFplus = SSMuEleplus + SSEleMuplus\n",
    "print \"%f pb\" %SSOFplus"
   ]
  },
  {
   "cell_type": "markdown",
   "metadata": {},
   "source": [
    "#### Negative Sign Mutually Exclusive $W^{-}(l^{-}\\bar{\\nu})H(l^{-} \\bar{\\nu} q\\bar{q})$\n",
    "\n",
    "$\\sigma_{W^{-}(\\mu^{+}\\bar{\\nu})H(e^{-}\\bar{\\nu}q\\bar{q})}$ = $\\sigma_{W^{-}H}$ $\\times$ Br($W^{-} \\rightarrow \\mu^{-} \\bar{\\nu}$) $\\times$ Br($H \\rightarrow W^{+}W^{-}$) $\\times$ 2 $\\times$ [Br($W^{-} \\rightarrow e^{-} \\bar{\\nu}$) $\\times$ Br($W^{+} \\rightarrow q \\bar{q}$)]\n",
    "\n",
    "$\\sigma_{W^{-}(e^{-}\\bar{\\nu})H(\\mu^{-}\\bar{\\nu}q\\bar{q})}$ = $\\sigma_{W^{-}H}$ $\\times$ Br($W^{-} \\rightarrow e^{-} \\bar{\\nu}$) $\\times$ Br($H \\rightarrow W^{+}W^{-}$) $\\times$ 2 $\\times$ [Br($W^{-} \\rightarrow \\mu^{-} \\bar{\\nu}$) $\\times$ Br($W^{+} \\rightarrow q \\bar{q}$)]\n",
    "\n",
    "$\\sigma_{W^{-}(l^{-}\\bar{\\nu})H(l^{-} \\bar{\\nu} q\\bar{q})}$ = $\\sigma_{W^{-}(\\mu^{-}\\bar{\\nu})H(e^{-}\\bar{\\nu}q\\bar{q})}$ + $\\sigma_{W^{-}(e^{-}\\bar{\\nu})H(\\mu^{-}\\bar{\\nu}q\\bar{q})}$"
   ]
  },
  {
   "cell_type": "code",
   "execution_count": 6,
   "metadata": {
    "ExecuteTime": {
     "end_time": "2019-06-28T14:40:04.198439Z",
     "start_time": "2019-06-28T14:40:04.187068Z"
    }
   },
   "outputs": [
    {
     "name": "stdout",
     "output_type": "stream",
     "text": [
      "0.003457 pb\n"
     ]
    }
   ],
   "source": [
    "SSMuEleminus = (0.527*0.1063*0.2137*2*0.1071*0.6741)\n",
    "SSEleMuminus = (0.527*0.1071*0.2137*2*0.1063*0.6741)\n",
    "\n",
    "SSOFminus = SSMuEleminus + SSEleMuminus\n",
    "print \"%f pb\" %SSOFminus"
   ]
  },
  {
   "cell_type": "markdown",
   "metadata": {},
   "source": [
    "## Total Same Sign Opposite Flavor"
   ]
  },
  {
   "cell_type": "code",
   "execution_count": 7,
   "metadata": {},
   "outputs": [
    {
     "name": "stdout",
     "output_type": "stream",
     "text": [
      "Expected total Same Sign Opposite Flavor WH yields 0.008909 pb @ NNLO QCD and NLO EW\n"
     ]
    }
   ],
   "source": [
    "print \"Expected total Same Sign Opposite Flavor WH yields %f pb @ NNLO QCD and NLO EW\" %(SSOFplus+SSOFminus)"
   ]
  },
  {
   "cell_type": "markdown",
   "metadata": {},
   "source": [
    "## Total Same Sign"
   ]
  },
  {
   "cell_type": "code",
   "execution_count": 8,
   "metadata": {},
   "outputs": [
    {
     "name": "stdout",
     "output_type": "stream",
     "text": [
      "Expected Total Same Sign 0.017818 pb @ NNLO QCD and NLO EW\n"
     ]
    }
   ],
   "source": [
    "Tot = SSOFplus+SSOFminus + SSSFWplus+SSSFWminus\n",
    "print \"Expected Total Same Sign %f pb @ NNLO QCD and NLO EW\" % Tot"
   ]
  },
  {
   "cell_type": "markdown",
   "metadata": {},
   "source": [
    "### Back-of-envelop computation\n",
    "\n",
    "- 2016 dataset: 35.87 fb-1\n",
    "- 2017 dataset: 41.53 fb-1\n",
    "- 2018 dataset: 59.74 fb-1"
   ]
  },
  {
   "cell_type": "code",
   "execution_count": 9,
   "metadata": {
    "ExecuteTime": {
     "end_time": "2019-06-28T14:40:04.227175Z",
     "start_time": "2019-06-28T14:40:04.207465Z"
    }
   },
   "outputs": [
    {
     "name": "stdout",
     "output_type": "stream",
     "text": [
      "----------------------------------------------------------------------------------------------------\n",
      "2016 dataset: 35508.421 pb-1:\n",
      "Total Same Sign expected number of signal event with Int.luminosity 35.870000 fb-1 = 639.114722\n",
      "----------------------------------------------------------------------------------------------------\n"
     ]
    }
   ],
   "source": [
    "run16=35.87 #fb-1\n",
    "print \"-\"*100\n",
    "print \"2016 dataset: 35508.421 pb-1:\"\n",
    "print \"Total Same Sign expected number of signal event with Int.luminosity %f fb-1 = %f\"%(run16,run16*Tot*1000)\n",
    "print \"-\"*100"
   ]
  },
  {
   "cell_type": "code",
   "execution_count": 10,
   "metadata": {
    "ExecuteTime": {
     "end_time": "2019-06-28T14:40:04.248911Z",
     "start_time": "2019-06-28T14:40:04.236223Z"
    }
   },
   "outputs": [
    {
     "name": "stdout",
     "output_type": "stream",
     "text": [
      "----------------------------------------------------------------------------------------------------\n",
      "2017 dataset: 41860.080 pb-1:\n",
      "Total Same Sign expected number of signal event with Int.luminosity 41.530000 fb-1 = 739.961930\n",
      "----------------------------------------------------------------------------------------------------\n"
     ]
    }
   ],
   "source": [
    "run17=41.53\n",
    "print \"-\"*100\n",
    "print \"2017 dataset: 41860.080 pb-1:\"\n",
    "print \"Total Same Sign expected number of signal event with Int.luminosity %f fb-1 = %f\"%(run17,run17*Tot*1000)\n",
    "print \"-\"*100"
   ]
  },
  {
   "cell_type": "code",
   "execution_count": 11,
   "metadata": {
    "ExecuteTime": {
     "end_time": "2019-06-28T14:40:04.273289Z",
     "start_time": "2019-06-28T14:40:04.257962Z"
    }
   },
   "outputs": [
    {
     "name": "stdout",
     "output_type": "stream",
     "text": [
      "----------------------------------------------------------------------------------------------------\n",
      "2018 dataset: 58826.847 pb-1:\n",
      "Total Same Sign expected number of signal event with Int.luminosity 59.740000 fb-1 = 1064.419111\n",
      "----------------------------------------------------------------------------------------------------\n"
     ]
    }
   ],
   "source": [
    "run18=59.74\n",
    "print \"-\"*100\n",
    "print \"2018 dataset: 58826.847 pb-1:\"\n",
    "print \"Total Same Sign expected number of signal event with Int.luminosity %f fb-1 = %f\"%(run18,run18*Tot*1000)\n",
    "print \"-\"*100"
   ]
  },
  {
   "cell_type": "code",
   "execution_count": 12,
   "metadata": {
    "ExecuteTime": {
     "end_time": "2019-06-28T14:40:04.290992Z",
     "start_time": "2019-06-28T14:40:04.280021Z"
    }
   },
   "outputs": [
    {
     "name": "stdout",
     "output_type": "stream",
     "text": [
      "----------------------------------------------------------------------------------------------------\n",
      "With total luminosity = 137.140000 pb-1, around 0.137140 fb-1\n",
      "Total Same Sign expected number of signal event with Int.luminosity 137.140000 fb-1 = 2443.495763\n",
      "----------------------------------------------------------------------------------------------------\n"
     ]
    }
   ],
   "source": [
    "Ltot=run16+run17+run18\n",
    "print \"-\"*100\n",
    "print \"With total luminosity = %f pb-1, around %f fb-1\"%(Ltot,(Ltot)/1000)\n",
    "print \"Total Same Sign expected number of signal event with Int.luminosity %f fb-1 = %f\"%(Ltot,Ltot*Tot*1000)\n",
    "print \"-\"*100"
   ]
  },
  {
   "cell_type": "code",
   "execution_count": 13,
   "metadata": {
    "ExecuteTime": {
     "end_time": "2019-06-28T14:42:01.861460Z",
     "start_time": "2019-06-28T14:42:01.848545Z"
    }
   },
   "outputs": [
    {
     "name": "stdout",
     "output_type": "stream",
     "text": [
      "50 percent hadronization + selection eff 60 percent = 733.048729 of Event left\n"
     ]
    }
   ],
   "source": [
    "print \"50 percent hadronization + selection eff 60 percent = %f of Event left\"%((Ltot*1000*(SSSFWplus+SSSFWminus+SSOFplus+SSOFminus)*0.5*0.6)) "
   ]
  },
  {
   "cell_type": "code",
   "execution_count": null,
   "metadata": {},
   "outputs": [],
   "source": []
  }
 ],
 "metadata": {
  "kernelspec": {
   "display_name": "Python 2",
   "language": "python",
   "name": "python2"
  },
  "language_info": {
   "codemirror_mode": {
    "name": "ipython",
    "version": 2
   },
   "file_extension": ".py",
   "mimetype": "text/x-python",
   "name": "python",
   "nbconvert_exporter": "python",
   "pygments_lexer": "ipython2",
   "version": "2.7.15"
  },
  "toc": {
   "base_numbering": 1,
   "nav_menu": {},
   "number_sections": true,
   "sideBar": true,
   "skip_h1_title": false,
   "title_cell": "Table of Contents",
   "title_sidebar": "Contents",
   "toc_cell": false,
   "toc_position": {},
   "toc_section_display": true,
   "toc_window_display": false
  },
  "varInspector": {
   "cols": {
    "lenName": 16,
    "lenType": 16,
    "lenVar": 40
   },
   "kernels_config": {
    "python": {
     "delete_cmd_postfix": "",
     "delete_cmd_prefix": "del ",
     "library": "var_list.py",
     "varRefreshCmd": "print(var_dic_list())"
    },
    "r": {
     "delete_cmd_postfix": ") ",
     "delete_cmd_prefix": "rm(",
     "library": "var_list.r",
     "varRefreshCmd": "cat(var_dic_list()) "
    }
   },
   "types_to_exclude": [
    "module",
    "function",
    "builtin_function_or_method",
    "instance",
    "_Feature"
   ],
   "window_display": false
  }
 },
 "nbformat": 4,
 "nbformat_minor": 2
}
